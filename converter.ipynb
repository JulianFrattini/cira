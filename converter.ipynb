{
 "cells": [
  {
   "cell_type": "code",
   "execution_count": 15,
   "metadata": {},
   "outputs": [],
   "source": [
    "import json\n",
    "from src.util.loader import load_sentence\n",
    "from os import listdir"
   ]
  },
  {
   "cell_type": "code",
   "execution_count": 16,
   "metadata": {},
   "outputs": [],
   "source": [
    "origin = 'static/sentences/'\n",
    "target = 'static/sentences_ser/'"
   ]
  },
  {
   "cell_type": "code",
   "execution_count": 21,
   "metadata": {},
   "outputs": [],
   "source": [
    "for fname in listdir('static/sentences'):\n",
    "    _, sentence, labels, graph, testsuite = load_sentence(\n",
    "        filename=f'{origin}{fname}')\n",
    "    dictified = {\n",
    "        'sentence': sentence,\n",
    "        'labels': [label.to_dict() for label in labels],\n",
    "        'graph': graph.to_dict(),\n",
    "        'testsuite': testsuite.to_dict()\n",
    "    }\n",
    "    index = fname[8:]\n",
    "    with open(f'{target}sentence-{index}', 'w') as fp:\n",
    "        json.dump(dictified, fp, indent=4)"
   ]
  }
 ],
 "metadata": {
  "kernelspec": {
   "display_name": "Python 3.10.0 ('.venv': venv)",
   "language": "python",
   "name": "python3"
  },
  "language_info": {
   "codemirror_mode": {
    "name": "ipython",
    "version": 3
   },
   "file_extension": ".py",
   "mimetype": "text/x-python",
   "name": "python",
   "nbconvert_exporter": "python",
   "pygments_lexer": "ipython3",
   "version": "3.10.0"
  },
  "orig_nbformat": 4,
  "vscode": {
   "interpreter": {
    "hash": "99184904623d560141b8ef29ab0847add0f2bbbf43eef3ab8f35c2baaad57bc4"
   }
  }
 },
 "nbformat": 4,
 "nbformat_minor": 2
}
