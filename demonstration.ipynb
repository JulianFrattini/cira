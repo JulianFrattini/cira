{
 "cells": [
  {
   "cell_type": "code",
   "execution_count": null,
   "metadata": {},
   "outputs": [],
   "source": [
    "import os, dotenv\n",
    "dotenv.load_dotenv()\n",
    "\n",
    "from src.cira import CiRAConverter"
   ]
  },
  {
   "cell_type": "markdown",
   "metadata": {},
   "source": [
    "The pre-trained classification and labeling model must be available on your local machine. Both models can be found on Zenodo:\n",
    "\n",
    "* Classifier: [https://zenodo.org/record/5159501#.Ytq28ITP3-g](https://zenodo.org/record/5159501#.Ytq28ITP3-g)\n",
    "* Labeler (use the model named roberta_dropout_linear_layer_multilabel.ckpt for optimal performance): [https://zenodo.org/record/5550387#.Ytq3QYTP3-g](https://zenodo.org/record/5550387#.Ytq3QYTP3-g) "
   ]
  },
  {
   "cell_type": "code",
   "execution_count": null,
   "metadata": {},
   "outputs": [],
   "source": [
    "# specify the location of the pre-trained classification and labeling model\n",
    "model_classification = os.environ['MODEL_CLASSIFICATION']\n",
    "model_labeling = os.environ['MODEL_LABELING']\n",
    "\n",
    "# create a CiRA converter object \n",
    "cira = CiRAConverter(classifier_causal_model_path=model_classification, converter_s2l_model_path=model_labeling)"
   ]
  },
  {
   "cell_type": "code",
   "execution_count": null,
   "metadata": {},
   "outputs": [],
   "source": [
    "# define an exemplary sentence\n",
    "sentence: str = \"If the red button is pressed and background operations are not running then the system shuts down.\""
   ]
  },
  {
   "cell_type": "code",
   "execution_count": null,
   "metadata": {},
   "outputs": [],
   "source": [
    "# classify the sentence\n",
    "causal,confidence = cira.classify(sentence)\n",
    "print(f'CiRA classified the sentence \"{sentence}\" to be {\"*\" if causal else \"*non\"}causal* with a confidence of {confidence:.2%}.')"
   ]
  },
  {
   "cell_type": "code",
   "execution_count": null,
   "metadata": {},
   "outputs": [],
   "source": [
    "# if the sentence is causal, process it by generating the labels, graph, and consequent test suite from the sentence\n",
    "if causal:\n",
    "    labels, graph, suite = cira.process(sentence)\n",
    "\n",
    "    print(f'Labels associated to the sentence: {labels}\\n')\n",
    "    print(f'Converted cause-effect-graph: {graph}\\n')\n",
    "    print(f'Minimal test suite: \\n{suite}')"
   ]
  }
 ],
 "metadata": {
  "kernelspec": {
   "display_name": "Python 3.9.0 ('.venv': venv)",
   "language": "python",
   "name": "python3"
  },
  "language_info": {
   "codemirror_mode": {
    "name": "ipython",
    "version": 3
   },
   "file_extension": ".py",
   "mimetype": "text/x-python",
   "name": "python",
   "nbconvert_exporter": "python",
   "pygments_lexer": "ipython3",
   "version": "3.10.0"
  },
  "orig_nbformat": 4,
  "vscode": {
   "interpreter": {
    "hash": "99184904623d560141b8ef29ab0847add0f2bbbf43eef3ab8f35c2baaad57bc4"
   }
  }
 },
 "nbformat": 4,
 "nbformat_minor": 2
}
